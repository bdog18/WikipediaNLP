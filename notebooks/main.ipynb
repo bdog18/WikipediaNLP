{
 "cells": [
  {
   "cell_type": "markdown",
   "id": "8e677e61",
   "metadata": {},
   "source": [
    "All of this is ran in a docker container using the following image:\n",
    "\n",
    "nvcr.io/nvidia/tensorflow:23.12-tf2-py3"
   ]
  },
  {
   "cell_type": "code",
   "execution_count": 1,
   "id": "63ce7fee",
   "metadata": {},
   "outputs": [],
   "source": [
    "import os\n",
    "import sys\n",
    "\n",
    "# Add root directory (one level up from notebooks/)\n",
    "sys.path.append(os.path.abspath(os.path.join(os.getcwd(), '..')))"
   ]
  },
  {
   "cell_type": "markdown",
   "id": "e9fc0ea6",
   "metadata": {},
   "source": [
    "download and install wikiextractor"
   ]
  },
  {
   "cell_type": "code",
   "execution_count": null,
   "id": "5de0b195",
   "metadata": {},
   "outputs": [
    {
     "name": "stdout",
     "output_type": "stream",
     "text": [
      "Wikiextractor already exists\n"
     ]
    }
   ],
   "source": [
    "if not os.path.isdir(r\"../wikiextractor-master\"):\n",
    "    # Step 1: Download the ZIP file\n",
    "    !curl -L -o ../wikiextractor.zip https://github.com/qfcy/wikiextractor/archive/refs/heads/master.zip\n",
    "\n",
    "    # Step 2: Extract it\n",
    "    import zipfile\n",
    "    import os\n",
    "\n",
    "    zip_path = r\"../wikiextractor.zip\"\n",
    "    extract_to = r\"../\"\n",
    "\n",
    "    with zipfile.ZipFile(zip_path, 'r') as zip_ref:\n",
    "        zip_ref.extractall(extract_to)\n",
    "\n",
    "    # Step 3: Delete the ZIP file\n",
    "    os.remove(zip_path)\n",
    "\n",
    "    # Step 4: Install Wikiextractor\n",
    "    !pip install -e ../wikiextractor-master\n",
    "else:\n",
    "    print(\"Wikiextractor already exists\")"
   ]
  },
  {
   "cell_type": "markdown",
   "id": "7990a714",
   "metadata": {},
   "source": [
    "Get wikipedia dump (takes like 2 hours to download)"
   ]
  },
  {
   "cell_type": "code",
   "execution_count": null,
   "id": "b50a29ce",
   "metadata": {},
   "outputs": [
    {
     "name": "stdout",
     "output_type": "stream",
     "text": [
      "Wikipedia dump already downloaded\n"
     ]
    }
   ],
   "source": [
    "os.makedirs(r\"../data/raw\", exist_ok=True)\n",
    "if not os.path.isfile(r\"../data/raw/enwiki-latest-pages-articles.xml.bz2\"):\n",
    "    !wget -P ../data/raw https://dumps.wikimedia.org/enwiki/latest/enwiki-latest-pages-articles.xml.bz2\n",
    "else:\n",
    "    print(\"Wikipedia dump already downloaded\")"
   ]
  },
  {
   "cell_type": "markdown",
   "id": "dc68e223",
   "metadata": {},
   "source": [
    "Install wikiextractor if needed"
   ]
  },
  {
   "cell_type": "code",
   "execution_count": 13,
   "id": "ac50a315",
   "metadata": {},
   "outputs": [
    {
     "name": "stdout",
     "output_type": "stream",
     "text": [
      "wikiextractor is already installed.\n"
     ]
    }
   ],
   "source": [
    "import pkg_resources\n",
    "\n",
    "try:\n",
    "    pkg_resources.get_distribution(\"wikiextractor\")\n",
    "    print(\"wikiextractor is already installed.\")\n",
    "except pkg_resources.DistributionNotFound:\n",
    "    print(\"Installing wikiextractor...\")\n",
    "    !pip install -e ../wikiextractor-master"
   ]
  },
  {
   "cell_type": "markdown",
   "id": "fa9a9caa",
   "metadata": {},
   "source": [
    "Extract xml data from wikidump"
   ]
  },
  {
   "cell_type": "code",
   "execution_count": null,
   "id": "f4b1a8dc",
   "metadata": {},
   "outputs": [
    {
     "name": "stdout",
     "output_type": "stream",
     "text": [
      "INFO: Starting page extraction from ../data/raw/enwiki-latest-pages-articles.xml.bz2.\n",
      "INFO: Using 11 extract processes.\n"
     ]
    }
   ],
   "source": [
    "if not os.path.isdir(r\"../data/raw/extracted_wikidata\"):\n",
    "    !python -m wikiextractor.WikiExtractor \\\n",
    "        ../data/raw/enwiki-latest-pages-articles.xml.bz2 \\\n",
    "        -o ../data/raw/extracted_wikidata \\\n",
    "        --no-templates\n",
    "else:\n",
    "    print(\"Wikipedia XML extract already exists\")"
   ]
  },
  {
   "cell_type": "markdown",
   "id": "f0923b64",
   "metadata": {},
   "source": [
    "Create json data from wiki-dump"
   ]
  },
  {
   "cell_type": "code",
   "execution_count": null,
   "id": "6511a9f2",
   "metadata": {},
   "outputs": [
    {
     "data": {
      "application/vnd.jupyter.widget-view+json": {
       "model_id": "b1b3df571c0340a9b0489157be8ccf68",
       "version_major": 2,
       "version_minor": 0
      },
      "text/plain": [
       "Processing XML files:   0%|          | 0/1 [00:00<?, ?file/s]"
      ]
     },
     "metadata": {},
     "output_type": "display_data"
    }
   ],
   "source": [
    "from utils.data_prep import traverse_directory\n",
    "\n",
    "input_dir = r'../data/raw/extracted_wikidata'\n",
    "output_dir = r'../data/processed/wikidata_json'\n",
    "\n",
    "traverse_directory(input_dir, output_dir)"
   ]
  },
  {
   "cell_type": "markdown",
   "id": "fb9736f8",
   "metadata": {},
   "source": [
    "Initialize spark session for metadata and triplets creation\n",
    "\n",
    "Create metadata from articles\n",
    "\n",
    "Create Training data triplets using Pyspark from json wikidata\n",
    "\n",
    "Had to install winutils for hadoop and pyspark to work on windows locally."
   ]
  },
  {
   "cell_type": "code",
   "execution_count": 2,
   "id": "c8e93932",
   "metadata": {},
   "outputs": [],
   "source": [
    "input_dir = r\"../data/processed/wikidata_json\"\n",
    "output_dir = r\"../data/processed/triplets/parts\"\n",
    "metadata_path = r\"../data/custom_model/article_metadata.json\""
   ]
  },
  {
   "cell_type": "code",
   "execution_count": null,
   "id": "0b85d6e7",
   "metadata": {},
   "outputs": [
    {
     "name": "stdout",
     "output_type": "stream",
     "text": [
      "Loading JSON input\n"
     ]
    }
   ],
   "source": [
    "from utils.spark_functions import create_article_metadata, create_paragraphs_df, create_triplets\n",
    "from pyspark.sql import SparkSession\n",
    "\n",
    "if not os.path.isdir(output_dir) or os.path.isfile(metadata_path):\n",
    "    # Initialize Spark session\n",
    "    spark = SparkSession.builder \\\n",
    "        .appName(\"Capstone\") \\\n",
    "        .master(\"local[*]\") \\\n",
    "        .config(\"spark.driver.memory\", \"20g\") \\\n",
    "        .config(\"spark.sql.shuffle.partitions\", \"100\") \\\n",
    "        .config(\"spark.local.dir\", \"../spark-temp\") \\\n",
    "        .config(\"spark.driver.maxResultSize\", \"2g\") \\\n",
    "        .getOrCreate()\n",
    "    \n",
    "    print(\"Loading JSON input\")\n",
    "    json_df = spark.read.option(\"multiLine\", True).json(f\"{input_dir}/**/*.json\")\n",
    "\n",
    "    # Create metadata file from articles\n",
    "    create_article_metadata(json_df, metadata_path)\n",
    "\n",
    "    # Logic for creating training data triplets from json\n",
    "    df = create_paragraphs_df(json_df)\n",
    "    triplets = create_triplets(df)\n",
    "    print(f\"Writing triplets to Spark part files: {output_dir}\")\n",
    "    triplets.write.mode(\"overwrite\").json(output_dir)\n",
    "\n",
    "    # Stop spark\n",
    "    spark.stop()\n",
    "else:\n",
    "    print(\"Triplets data has already exists\")"
   ]
  },
  {
   "cell_type": "code",
   "execution_count": null,
   "id": "fcf9cd8f",
   "metadata": {},
   "outputs": [
    {
     "name": "stdout",
     "output_type": "stream",
     "text": [
      "Preserved: ../data/processed/triplets/parts/part-00000-7efe5b09-4f5a-4769-a825-d05afbbb672e-c000.json\n",
      "Preserved: ../data/processed/triplets/parts/part-00001-7efe5b09-4f5a-4769-a825-d05afbbb672e-c000.json\n",
      "Preserved: ../data/processed/triplets/parts/part-00002-7efe5b09-4f5a-4769-a825-d05afbbb672e-c000.json\n",
      "Preserved: ../data/processed/triplets/parts/part-00003-7efe5b09-4f5a-4769-a825-d05afbbb672e-c000.json\n",
      "Preserved: ../data/processed/triplets/parts/part-00004-7efe5b09-4f5a-4769-a825-d05afbbb672e-c000.json\n",
      "Preserved: ../data/processed/triplets/parts/part-00005-7efe5b09-4f5a-4769-a825-d05afbbb672e-c000.json\n",
      "Preserved: ../data/processed/triplets/parts/part-00006-7efe5b09-4f5a-4769-a825-d05afbbb672e-c000.json\n",
      "Preserved: ../data/processed/triplets/parts/part-00007-7efe5b09-4f5a-4769-a825-d05afbbb672e-c000.json\n",
      "Preserved: ../data/processed/triplets/parts/part-00008-7efe5b09-4f5a-4769-a825-d05afbbb672e-c000.json\n",
      "Preserved: ../data/processed/triplets/parts/part-00009-7efe5b09-4f5a-4769-a825-d05afbbb672e-c000.json\n",
      "Preserved: ../data/processed/triplets/parts/part-00010-7efe5b09-4f5a-4769-a825-d05afbbb672e-c000.json\n",
      "Preserved: ../data/processed/triplets/parts/part-00011-7efe5b09-4f5a-4769-a825-d05afbbb672e-c000.json\n",
      "Preserved: ../data/processed/triplets/parts/part-00012-7efe5b09-4f5a-4769-a825-d05afbbb672e-c000.json\n",
      "Preserved: ../data/processed/triplets/parts/part-00013-7efe5b09-4f5a-4769-a825-d05afbbb672e-c000.json\n",
      "Preserved: ../data/processed/triplets/parts/part-00014-7efe5b09-4f5a-4769-a825-d05afbbb672e-c000.json\n",
      "Preserved: ../data/processed/triplets/parts/part-00015-7efe5b09-4f5a-4769-a825-d05afbbb672e-c000.json\n",
      "Preserved: ../data/processed/triplets/parts/part-00016-7efe5b09-4f5a-4769-a825-d05afbbb672e-c000.json\n",
      "Preserved: ../data/processed/triplets/parts/part-00017-7efe5b09-4f5a-4769-a825-d05afbbb672e-c000.json\n",
      "Preserved: ../data/processed/triplets/parts/part-00018-7efe5b09-4f5a-4769-a825-d05afbbb672e-c000.json\n",
      "Preserved: ../data/processed/triplets/parts/part-00019-7efe5b09-4f5a-4769-a825-d05afbbb672e-c000.json\n",
      "Preserved: ../data/processed/triplets/parts/part-00020-7efe5b09-4f5a-4769-a825-d05afbbb672e-c000.json\n",
      "Preserved: ../data/processed/triplets/parts/part-00021-7efe5b09-4f5a-4769-a825-d05afbbb672e-c000.json\n",
      "Preserved: ../data/processed/triplets/parts/part-00022-7efe5b09-4f5a-4769-a825-d05afbbb672e-c000.json\n",
      "Preserved: ../data/processed/triplets/parts/part-00023-7efe5b09-4f5a-4769-a825-d05afbbb672e-c000.json\n",
      "Preserved: ../data/processed/triplets/parts/part-00024-7efe5b09-4f5a-4769-a825-d05afbbb672e-c000.json\n",
      "Preserved: ../data/processed/triplets/parts/part-00025-7efe5b09-4f5a-4769-a825-d05afbbb672e-c000.json\n",
      "Preserved: ../data/processed/triplets/parts/part-00026-7efe5b09-4f5a-4769-a825-d05afbbb672e-c000.json\n",
      "Preserved: ../data/processed/triplets/parts/part-00027-7efe5b09-4f5a-4769-a825-d05afbbb672e-c000.json\n",
      "Preserved: ../data/processed/triplets/parts/part-00028-7efe5b09-4f5a-4769-a825-d05afbbb672e-c000.json\n",
      "Preserved: ../data/processed/triplets/parts/part-00029-7efe5b09-4f5a-4769-a825-d05afbbb672e-c000.json\n",
      "Preserved: ../data/processed/triplets/parts/part-00030-7efe5b09-4f5a-4769-a825-d05afbbb672e-c000.json\n",
      "Preserved: ../data/processed/triplets/parts/part-00031-7efe5b09-4f5a-4769-a825-d05afbbb672e-c000.json\n",
      "Preserved: ../data/processed/triplets/parts/part-00032-7efe5b09-4f5a-4769-a825-d05afbbb672e-c000.json\n",
      "Preserved: ../data/processed/triplets/parts/part-00033-7efe5b09-4f5a-4769-a825-d05afbbb672e-c000.json\n",
      "Preserved: ../data/processed/triplets/parts/part-00034-7efe5b09-4f5a-4769-a825-d05afbbb672e-c000.json\n",
      "Preserved: ../data/processed/triplets/parts/part-00035-7efe5b09-4f5a-4769-a825-d05afbbb672e-c000.json\n",
      "Preserved: ../data/processed/triplets/parts/part-00036-7efe5b09-4f5a-4769-a825-d05afbbb672e-c000.json\n",
      "Preserved: ../data/processed/triplets/parts/part-00037-7efe5b09-4f5a-4769-a825-d05afbbb672e-c000.json\n",
      "Preserved: ../data/processed/triplets/parts/part-00038-7efe5b09-4f5a-4769-a825-d05afbbb672e-c000.json\n",
      "Preserved: ../data/processed/triplets/parts/part-00039-7efe5b09-4f5a-4769-a825-d05afbbb672e-c000.json\n",
      "Preserved: ../data/processed/triplets/parts/part-00040-7efe5b09-4f5a-4769-a825-d05afbbb672e-c000.json\n",
      "Preserved: ../data/processed/triplets/parts/part-00041-7efe5b09-4f5a-4769-a825-d05afbbb672e-c000.json\n",
      "Preserved: ../data/processed/triplets/parts/part-00042-7efe5b09-4f5a-4769-a825-d05afbbb672e-c000.json\n",
      "Preserved: ../data/processed/triplets/parts/part-00043-7efe5b09-4f5a-4769-a825-d05afbbb672e-c000.json\n",
      "Preserved: ../data/processed/triplets/parts/part-00044-7efe5b09-4f5a-4769-a825-d05afbbb672e-c000.json\n",
      "Preserved: ../data/processed/triplets/parts/part-00045-7efe5b09-4f5a-4769-a825-d05afbbb672e-c000.json\n",
      "Preserved: ../data/processed/triplets/parts/part-00046-7efe5b09-4f5a-4769-a825-d05afbbb672e-c000.json\n",
      "Preserved: ../data/processed/triplets/parts/part-00047-7efe5b09-4f5a-4769-a825-d05afbbb672e-c000.json\n",
      "Preserved: ../data/processed/triplets/parts/part-00048-7efe5b09-4f5a-4769-a825-d05afbbb672e-c000.json\n",
      "Preserved: ../data/processed/triplets/parts/part-00049-7efe5b09-4f5a-4769-a825-d05afbbb672e-c000.json\n",
      "Preserved: ../data/processed/triplets/parts/part-00050-7efe5b09-4f5a-4769-a825-d05afbbb672e-c000.json\n",
      "Preserved: ../data/processed/triplets/parts/part-00051-7efe5b09-4f5a-4769-a825-d05afbbb672e-c000.json\n",
      "Preserved: ../data/processed/triplets/parts/part-00052-7efe5b09-4f5a-4769-a825-d05afbbb672e-c000.json\n",
      "Preserved: ../data/processed/triplets/parts/part-00053-7efe5b09-4f5a-4769-a825-d05afbbb672e-c000.json\n",
      "Preserved: ../data/processed/triplets/parts/part-00054-7efe5b09-4f5a-4769-a825-d05afbbb672e-c000.json\n",
      "Preserved: ../data/processed/triplets/parts/part-00055-7efe5b09-4f5a-4769-a825-d05afbbb672e-c000.json\n",
      "Preserved: ../data/processed/triplets/parts/part-00056-7efe5b09-4f5a-4769-a825-d05afbbb672e-c000.json\n",
      "Preserved: ../data/processed/triplets/parts/part-00057-7efe5b09-4f5a-4769-a825-d05afbbb672e-c000.json\n",
      "Preserved: ../data/processed/triplets/parts/part-00058-7efe5b09-4f5a-4769-a825-d05afbbb672e-c000.json\n",
      "Preserved: ../data/processed/triplets/parts/part-00059-7efe5b09-4f5a-4769-a825-d05afbbb672e-c000.json\n",
      "Preserved: ../data/processed/triplets/parts/part-00060-7efe5b09-4f5a-4769-a825-d05afbbb672e-c000.json\n",
      "Preserved: ../data/processed/triplets/parts/part-00061-7efe5b09-4f5a-4769-a825-d05afbbb672e-c000.json\n",
      "Preserved: ../data/processed/triplets/parts/part-00062-7efe5b09-4f5a-4769-a825-d05afbbb672e-c000.json\n",
      "Preserved: ../data/processed/triplets/parts/part-00063-7efe5b09-4f5a-4769-a825-d05afbbb672e-c000.json\n",
      "Preserved: ../data/processed/triplets/parts/part-00064-7efe5b09-4f5a-4769-a825-d05afbbb672e-c000.json\n",
      "Preserved: ../data/processed/triplets/parts/part-00065-7efe5b09-4f5a-4769-a825-d05afbbb672e-c000.json\n",
      "Preserved: ../data/processed/triplets/parts/part-00066-7efe5b09-4f5a-4769-a825-d05afbbb672e-c000.json\n",
      "Preserved: ../data/processed/triplets/parts/part-00067-7efe5b09-4f5a-4769-a825-d05afbbb672e-c000.json\n",
      "Preserved: ../data/processed/triplets/parts/part-00068-7efe5b09-4f5a-4769-a825-d05afbbb672e-c000.json\n",
      "Preserved: ../data/processed/triplets/parts/part-00069-7efe5b09-4f5a-4769-a825-d05afbbb672e-c000.json\n",
      "Preserved: ../data/processed/triplets/parts/part-00070-7efe5b09-4f5a-4769-a825-d05afbbb672e-c000.json\n",
      "Preserved: ../data/processed/triplets/parts/part-00071-7efe5b09-4f5a-4769-a825-d05afbbb672e-c000.json\n",
      "Preserved: ../data/processed/triplets/parts/part-00072-7efe5b09-4f5a-4769-a825-d05afbbb672e-c000.json\n",
      "Preserved: ../data/processed/triplets/parts/part-00073-7efe5b09-4f5a-4769-a825-d05afbbb672e-c000.json\n",
      "Preserved: ../data/processed/triplets/parts/part-00074-7efe5b09-4f5a-4769-a825-d05afbbb672e-c000.json\n",
      "Preserved: ../data/processed/triplets/parts/part-00075-7efe5b09-4f5a-4769-a825-d05afbbb672e-c000.json\n",
      "Preserved: ../data/processed/triplets/parts/part-00076-7efe5b09-4f5a-4769-a825-d05afbbb672e-c000.json\n",
      "Preserved: ../data/processed/triplets/parts/part-00077-7efe5b09-4f5a-4769-a825-d05afbbb672e-c000.json\n",
      "Preserved: ../data/processed/triplets/parts/part-00078-7efe5b09-4f5a-4769-a825-d05afbbb672e-c000.json\n",
      "Preserved: ../data/processed/triplets/parts/part-00079-7efe5b09-4f5a-4769-a825-d05afbbb672e-c000.json\n",
      "Preserved: ../data/processed/triplets/parts/part-00080-7efe5b09-4f5a-4769-a825-d05afbbb672e-c000.json\n",
      "Preserved: ../data/processed/triplets/parts/part-00081-7efe5b09-4f5a-4769-a825-d05afbbb672e-c000.json\n",
      "Preserved: ../data/processed/triplets/parts/part-00082-7efe5b09-4f5a-4769-a825-d05afbbb672e-c000.json\n",
      "Preserved: ../data/processed/triplets/parts/part-00083-7efe5b09-4f5a-4769-a825-d05afbbb672e-c000.json\n",
      "Preserved: ../data/processed/triplets/parts/part-00084-7efe5b09-4f5a-4769-a825-d05afbbb672e-c000.json\n",
      "Preserved: ../data/processed/triplets/parts/part-00085-7efe5b09-4f5a-4769-a825-d05afbbb672e-c000.json\n",
      "Preserved: ../data/processed/triplets/parts/part-00086-7efe5b09-4f5a-4769-a825-d05afbbb672e-c000.json\n",
      "Preserved: ../data/processed/triplets/parts/part-00087-7efe5b09-4f5a-4769-a825-d05afbbb672e-c000.json\n",
      "Preserved: ../data/processed/triplets/parts/part-00088-7efe5b09-4f5a-4769-a825-d05afbbb672e-c000.json\n",
      "Preserved: ../data/processed/triplets/parts/part-00089-7efe5b09-4f5a-4769-a825-d05afbbb672e-c000.json\n",
      "Preserved: ../data/processed/triplets/parts/part-00090-7efe5b09-4f5a-4769-a825-d05afbbb672e-c000.json\n",
      "Preserved: ../data/processed/triplets/parts/part-00091-7efe5b09-4f5a-4769-a825-d05afbbb672e-c000.json\n",
      "Preserved: ../data/processed/triplets/parts/part-00092-7efe5b09-4f5a-4769-a825-d05afbbb672e-c000.json\n",
      "Preserved: ../data/processed/triplets/parts/part-00093-7efe5b09-4f5a-4769-a825-d05afbbb672e-c000.json\n",
      "Preserved: ../data/processed/triplets/parts/part-00094-7efe5b09-4f5a-4769-a825-d05afbbb672e-c000.json\n",
      "Preserved: ../data/processed/triplets/parts/part-00095-7efe5b09-4f5a-4769-a825-d05afbbb672e-c000.json\n",
      "Preserved: ../data/processed/triplets/parts/part-00096-7efe5b09-4f5a-4769-a825-d05afbbb672e-c000.json\n",
      "Preserved: ../data/processed/triplets/parts/part-00097-7efe5b09-4f5a-4769-a825-d05afbbb672e-c000.json\n",
      "Preserved: ../data/processed/triplets/parts/part-00098-7efe5b09-4f5a-4769-a825-d05afbbb672e-c000.json\n",
      "Preserved: ../data/processed/triplets/parts/part-00099-7efe5b09-4f5a-4769-a825-d05afbbb672e-c000.json\n"
     ]
    }
   ],
   "source": [
    "from utils.data_prep import delete_files_in_dir_based_on_ext\n",
    "\n",
    "# Delete unneeded files produced by pyspark\n",
    "delete_files_in_dir_based_on_ext(output_dir, \".json\")"
   ]
  },
  {
   "cell_type": "markdown",
   "id": "0c842330",
   "metadata": {},
   "source": [
    "Training embedding model"
   ]
  },
  {
   "cell_type": "markdown",
   "id": "d4d4bd06",
   "metadata": {},
   "source": [
    "Embed and Index Wikidata"
   ]
  },
  {
   "cell_type": "code",
   "execution_count": null,
   "id": "f74c2a31",
   "metadata": {},
   "outputs": [],
   "source": [
    "import tensorflow as tf\n",
    "from utils.custom_embedder import *\n",
    "\n",
    "\n",
    "# Parameters\n",
    "input_dir = \"../data/processed/triplets/parts\"\n",
    "vectorizer_path = \"../data/custom_model/saved_vectorizer\"\n",
    "vocab_size = 30000\n",
    "max_len = 32\n",
    "embed_dim = 128\n",
    "num_heads = 4\n",
    "ff_dim = 256\n",
    "batch_size = 64\n",
    "num_epochs = 10\n",
    "weights_path = \"../data/custom_model/encoder_weights.h5\"\n",
    "\n",
    "# Load vectorizer\n",
    "vectorizer = tf.keras.models.load_model(vectorizer_path)\n",
    "\n",
    "# Load dataset\n",
    "train_dataset = load_triplet_dataset(input_dir, vectorizer, batch_size)\n",
    "\n",
    "# Model setup\n",
    "encoder = CustomEncoder(vocab_size, max_len, embed_dim, num_heads, ff_dim, num_layers=2)\n",
    "trainer = TripletTrainer(encoder)\n",
    "trainer.compile(optimizer=tf.keras.optimizers.Adam(1e-3))\n",
    "\n",
    "# Callbacks\n",
    "callbacks = [\n",
    "    EarlyStopping(monitor=\"loss\", patience=2),\n",
    "    ModelCheckpoint(\"../data/custom_model/best_encoder.keras\", monitor=\"loss\", save_best_only=True)\n",
    "]\n",
    "\n",
    "# Training\n",
    "trainer.fit(train_dataset, epochs=num_epochs, callbacks=callbacks)\n",
    "\n",
    "# Save final encoder weights\n",
    "encoder.save_weights(weights_path)\n",
    "print(\"✅ Training complete and weights saved.\")"
   ]
  },
  {
   "cell_type": "markdown",
   "id": "aecb2e0e",
   "metadata": {},
   "source": [
    "Create faiss index if not already existing"
   ]
  },
  {
   "cell_type": "code",
   "execution_count": null,
   "id": "35dacdbf",
   "metadata": {},
   "outputs": [
    {
     "name": "stdout",
     "output_type": "stream",
     "text": [
      "Found 100 embedding files. Building FAISS index...\n"
     ]
    },
    {
     "data": {
      "application/vnd.jupyter.widget-view+json": {
       "model_id": "b8c4379fad174c21a48bd65b7ba19333",
       "version_major": 2,
       "version_minor": 0
      },
      "text/plain": [
       "Processing embedding files:   0%|          | 0/100 [00:00<?, ?it/s]"
      ]
     },
     "metadata": {},
     "output_type": "display_data"
    },
    {
     "name": "stdout",
     "output_type": "stream",
     "text": [
      "FAISS index saved.\n"
     ]
    }
   ],
   "source": [
    "from utils.faiss_index import create_faiss_index_from_dir\n",
    "\n",
    "embedding_path = \"../data/custom_model/embeddings_output1\"\n",
    "faiss_path = \"../data/custom_model/faiss/faiss_index.index\"\n",
    "\n",
    "create_faiss_index_from_dir(embedding_path, faiss_path)"
   ]
  },
  {
   "cell_type": "code",
   "execution_count": null,
   "id": "7cdaaf45",
   "metadata": {},
   "outputs": [
    {
     "name": "stdout",
     "output_type": "stream",
     "text": [
      "WARNING:tensorflow:No training configuration found in save file, so the model was *not* compiled. Compile it manually.\n"
     ]
    }
   ],
   "source": [
    "# Load saved vectorizer\n",
    "vectorizer = tf.keras.models.load_model(\"../data/custom_model/saved_vectorizer\")\n",
    "vectorizer = vectorizer.layers[0]\n",
    "\n",
    "# Initialize the encoder\n",
    "encoder = CustomEncoder(vocab_size=30000, max_len=32, embed_dim=128, num_heads=4, ff_dim=256)\n",
    "\n",
    "# Build the model by calling it on dummy data\n",
    "_ = encoder(tf.constant([[1] * 32]))  # shape: (1, max_len)\n",
    "\n",
    "# Now load the weights\n",
    "encoder.load_weights(\"../data/custom_model/encoder_weights.h5\")\n",
    "\n",
    "# Your query\n",
    "query = \"What is the function of DNA?\"\n",
    "\n",
    "query_seq = vectorizer(tf.constant([query]))\n",
    "query_embedding = encoder(query_seq).numpy()"
   ]
  },
  {
   "cell_type": "code",
   "execution_count": null,
   "id": "62e839dd",
   "metadata": {},
   "outputs": [],
   "source": [
    "from utils.faiss_index import query_faiss\n",
    "\n",
    "indices = query_faiss(faiss_path, query_embedding, 10)\n",
    "\n",
    "# Load article metadata\n",
    "metadata_path = \"../data/custom_model/article_metadata.json\"\n",
    "with open(metadata_path, encoding='utf-8') as f:\n",
    "    metadata = json.load(f)\n",
    "\n",
    "# Retrieve top-k articles\n",
    "results = [metadata[i] for i in indices[0]]"
   ]
  },
  {
   "cell_type": "code",
   "execution_count": null,
   "id": "a01108fe",
   "metadata": {},
   "outputs": [
    {
     "data": {
      "application/vnd.jupyter.widget-view+json": {
       "model_id": "a61056661e084ddea32f7e64737a85a0",
       "version_major": 2,
       "version_minor": 0
      },
      "text/plain": [
       "Loading embeddings:   0%|          | 0/100 [00:00<?, ?it/s]"
      ]
     },
     "metadata": {},
     "output_type": "display_data"
    }
   ],
   "source": [
    "from sklearn.metrics.pairwise import cosine_similarity\n",
    "from glob import glob\n",
    "\n",
    "# Gather all article embeddings from .npy files\n",
    "all_embeddings = []\n",
    "embedding_files = sorted(glob(os.path.join(embedding_path, '*.npy')))\n",
    "for file_path in tqdm(embedding_files, desc=\"Loading embeddings\"):\n",
    "    all_embeddings.append(np.load(file_path))\n",
    "\n",
    "# Stack into one large matrix (shape: [N, dim])\n",
    "article_embeddings = np.vstack(all_embeddings)  # Now shape: (N_total, dim)\n",
    "\n",
    "# Create combined metadata\n",
    "top_articles = [metadata[i] | {\"vec\": article_embeddings[i]} for i in indices[0]]\n",
    "\n",
    "# Rerank using cosine similarity\n",
    "query_vec = query_embedding[0].reshape(1, -1)\n",
    "top_articles.sort(\n",
    "    key=lambda x: cosine_similarity(query_vec, x[\"vec\"].reshape(1, -1))[0][0],\n",
    "    reverse=True\n",
    ")"
   ]
  },
  {
   "cell_type": "code",
   "execution_count": null,
   "id": "0f33968f",
   "metadata": {},
   "outputs": [
    {
     "name": "stdout",
     "output_type": "stream",
     "text": [
      "[{'title': 'Whitson, Texas',\n",
      "  'url': 'https://en.wikipedia.org/wiki?curid=74340115'},\n",
      " {'title': 'My Kink Is Karma',\n",
      "  'url': 'https://en.wikipedia.org/wiki?curid=74920372'},\n",
      " {'title': 'Marcial Moreno-Mañas',\n",
      "  'url': 'https://en.wikipedia.org/wiki?curid=74635281'},\n",
      " {'title': 'Iran at the 2022 Asian Games',\n",
      "  'url': 'https://en.wikipedia.org/wiki?curid=74864425'},\n",
      " {'title': 'Sir Charles Saxton, 2nd Baronet',\n",
      "  'url': 'https://en.wikipedia.org/wiki?curid=74896144'},\n",
      " {'title': \"List of Girls' Crystal comic stories\",\n",
      "  'url': 'https://en.wikipedia.org/wiki?curid=74899201'},\n",
      " {'title': 'Not My Neighbour',\n",
      "  'url': 'https://en.wikipedia.org/wiki?curid=74886103'},\n",
      " {'title': 'Alaska Airlines Flight 2059',\n",
      "  'url': 'https://en.wikipedia.org/wiki?curid=75127810'},\n",
      " {'title': 'Ting Ting Chaoro',\n",
      "  'url': 'https://en.wikipedia.org/wiki?curid=74877608'},\n",
      " {'title': 'Detdet Pepito',\n",
      "  'url': 'https://en.wikipedia.org/wiki?curid=74590708'}]\n"
     ]
    }
   ],
   "source": [
    "import pprint\n",
    "\n",
    "final_results = [\n",
    "    {\n",
    "        \"title\": article[\"title\"],\n",
    "        \"url\": article.get(\"url\", \"N/A\")\n",
    "    }\n",
    "    # for article in top_articles[:5]\n",
    "    for article in top_articles\n",
    "]\n",
    "pprint.pprint(final_results)"
   ]
  }
 ],
 "metadata": {
  "kernelspec": {
   "display_name": "Python 3",
   "language": "python",
   "name": "python3"
  },
  "language_info": {
   "codemirror_mode": {
    "name": "ipython",
    "version": 3
   },
   "file_extension": ".py",
   "mimetype": "text/x-python",
   "name": "python",
   "nbconvert_exporter": "python",
   "pygments_lexer": "ipython3",
   "version": "3.10.12"
  }
 },
 "nbformat": 4,
 "nbformat_minor": 5
}
