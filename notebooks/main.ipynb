{
 "cells": [
  {
   "cell_type": "code",
   "execution_count": 1,
   "id": "63ce7fee",
   "metadata": {},
   "outputs": [
    {
     "name": "stderr",
     "output_type": "stream",
     "text": [
      "e:\\School\\Master's Program\\Capstone\\WikipediaNLP\\venv\\lib\\site-packages\\tqdm\\auto.py:21: TqdmWarning: IProgress not found. Please update jupyter and ipywidgets. See https://ipywidgets.readthedocs.io/en/stable/user_install.html\n",
      "  from .autonotebook import tqdm as notebook_tqdm\n"
     ]
    }
   ],
   "source": [
    "import faiss\n",
    "import json\n",
    "import numpy as np\n",
    "import os\n",
    "from tqdm import tqdm\n",
    "from sentence_transformers import SentenceTransformer\n",
    "from sklearn.metrics.pairwise import cosine_similarity\n",
    "import sys\n",
    "\n",
    "# Add root directory (one level up from notebooks/)\n",
    "sys.path.append(os.path.abspath(os.path.join(os.getcwd(), '..')))"
   ]
  },
  {
   "cell_type": "code",
   "execution_count": null,
   "id": "6511a9f2",
   "metadata": {},
   "outputs": [],
   "source": [
    "from utils.data_prep import traverse_directory, traverse_directory_to_single_json\n",
    "\n",
    "input_directory = r'../data/processed/wikidata'\n",
    "output_directory = r'../data/processed/wikidata_json'\n",
    "\n",
    "traverse_directory(input_directory, output_directory)\n",
    "traverse_directory_to_single_json(input_directory, output_directory + '.json')"
   ]
  },
  {
   "cell_type": "code",
   "execution_count": null,
   "id": "0b85d6e7",
   "metadata": {},
   "outputs": [],
   "source": []
  },
  {
   "cell_type": "code",
   "execution_count": null,
   "id": "35dacdbf",
   "metadata": {},
   "outputs": [],
   "source": [
    "from utils.faiss_index import create_faiss_index, query_faiss\n",
    "\n",
    "faiss_path = \"../data/embeddings/faiss_index.index\"\n",
    "embedding_path = \"../data/embeddings/article_embeddings.npy\"\n",
    "\n",
    "create_faiss_index(faiss_path, embedding_path)"
   ]
  }
 ],
 "metadata": {
  "kernelspec": {
   "display_name": "venv",
   "language": "python",
   "name": "python3"
  },
  "language_info": {
   "codemirror_mode": {
    "name": "ipython",
    "version": 3
   },
   "file_extension": ".py",
   "mimetype": "text/x-python",
   "name": "python",
   "nbconvert_exporter": "python",
   "pygments_lexer": "ipython3",
   "version": "3.10.2"
  }
 },
 "nbformat": 4,
 "nbformat_minor": 5
}
