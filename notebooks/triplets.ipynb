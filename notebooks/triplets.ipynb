{
 "cells": [
  {
   "cell_type": "code",
   "execution_count": null,
   "id": "584a3f74",
   "metadata": {},
   "outputs": [],
   "source": [
    "import os\n",
    "import sys\n",
    "\n",
    "# Add root directory (one level up from notebooks/)\n",
    "sys.path.append(os.path.abspath(os.path.join(os.getcwd(), '..')))"
   ]
  },
  {
   "cell_type": "markdown",
   "id": "f2957156",
   "metadata": {},
   "source": [
    "download and extract all wiki.sql files needed"
   ]
  },
  {
   "cell_type": "code",
   "execution_count": null,
   "id": "4447398c",
   "metadata": {},
   "outputs": [],
   "source": [
    "if not os.path.isfile(r\"../data/raw/enwiki-latest-page.sql\"):\n",
    "    !wget -P ../data/raw https://dumps.wikimedia.org/enwiki/latest/enwiki-latest-page.sql.gz\n",
    "    !gunzip ../data/raw/enwiki-latest-page.sql.gz\n",
    "else:\n",
    "    print(\"Wikipedia pages already downloaded\")"
   ]
  },
  {
   "cell_type": "code",
   "execution_count": null,
   "id": "7b81c886",
   "metadata": {},
   "outputs": [],
   "source": [
    "if not os.path.isfile(r\"../data/raw/enwiki-latest-pagelinks.sql\"):\n",
    "    !wget -P ../data/raw https://dumps.wikimedia.org/enwiki/latest/enwiki-latest-pagelinks.sql.gz\n",
    "    !gunzip ../data/raw/enwiki-latest-pagelinks.sql.gz\n",
    "else:\n",
    "    print(\"Wikipedia pagelinks already downloaded\")"
   ]
  },
  {
   "cell_type": "code",
   "execution_count": null,
   "id": "0528f26a",
   "metadata": {},
   "outputs": [],
   "source": [
    "if not os.path.isfile(r\"../data/raw/enwiki-latest-linktarget.sql\"):\n",
    "    !wget -P ../data/raw https://dumps.wikimedia.org/enwiki/latest/enwiki-latest-linktarget.sql.gz\n",
    "    !gunzip ../data/raw/enwiki-latest-linktarget.sql.gz\n",
    "else:\n",
    "    print(\"Wikipedia linktarget already downloaded\")"
   ]
  },
  {
   "cell_type": "markdown",
   "id": "09210ee3",
   "metadata": {},
   "source": [
    "Create wiki_link_graph_jsonl dir"
   ]
  },
  {
   "cell_type": "code",
   "execution_count": null,
   "id": "1e44f1c9",
   "metadata": {},
   "outputs": [],
   "source": [
    "from utils.link_graph import export_link_graph_to_jsonl"
   ]
  },
  {
   "cell_type": "code",
   "execution_count": null,
   "id": "775eae4c",
   "metadata": {},
   "outputs": [],
   "source": [
    "page_sql_path = \"../data/raw/enwiki-latest-page.sql\"\n",
    "pagelinks_sql_path = \"../data/raw/enwiki-latest-pagelinks.sql\"\n",
    "linktarget_sql_path = \"../data/raw/enwiki-latest-linktarget.sql\"\n",
    "jsonl_output_path = \"../data/processed/wiki_link_graph_jsonl\"\n",
    "\n",
    "export_link_graph_to_jsonl(page_sql_path, pagelinks_sql_path, linktarget_sql_path, jsonl_output_path)"
   ]
  }
 ],
 "metadata": {
  "kernelspec": {
   "display_name": "Python 3",
   "language": "python",
   "name": "python3"
  },
  "language_info": {
   "codemirror_mode": {
    "name": "ipython",
    "version": 3
   },
   "file_extension": ".py",
   "mimetype": "text/x-python",
   "name": "python",
   "nbconvert_exporter": "python",
   "pygments_lexer": "ipython3",
   "version": "2.7.undefined"
  }
 },
 "nbformat": 4,
 "nbformat_minor": 5
}
