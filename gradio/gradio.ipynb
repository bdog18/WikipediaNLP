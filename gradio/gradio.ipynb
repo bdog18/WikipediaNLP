{
 "cells": [
  {
   "cell_type": "code",
   "execution_count": 39,
   "id": "e7e2e35c",
   "metadata": {},
   "outputs": [],
   "source": [
    "import gradio as gr\n",
    "\n",
    "def search_wiki(query, k):\n",
    "    # Dummy search results\n",
    "    titles = [f\"Article {i+1}\" for i in range(k)]\n",
    "    urls = [f\"https://example.com/article_{i+1}\" for i in range(k)]\n",
    "    results = [f\"[{title}]({url})\" for title, url in zip(titles, urls)]\n",
    "    results += [\"\"] * (10 - len(results))  # pad to 10\n",
    "    return results\n",
    "\n",
    "def handle_feedback(feedback_type, url):\n",
    "    print(f\"{feedback_type} feedback received for: {url}\")\n",
    "    return"
   ]
  },
  {
   "cell_type": "code",
   "execution_count": 49,
   "id": "0bba7ca2",
   "metadata": {},
   "outputs": [
    {
     "name": "stdout",
     "output_type": "stream",
     "text": [
      "* Running on local URL:  http://127.0.0.1:7900\n",
      "* To create a public link, set `share=True` in `launch()`.\n"
     ]
    },
    {
     "data": {
      "text/html": [
       "<div><iframe src=\"http://127.0.0.1:7900/\" width=\"100%\" height=\"500\" allow=\"autoplay; camera; microphone; clipboard-read; clipboard-write;\" frameborder=\"0\" allowfullscreen></iframe></div>"
      ],
      "text/plain": [
       "<IPython.core.display.HTML object>"
      ]
     },
     "metadata": {},
     "output_type": "display_data"
    },
    {
     "name": "stdout",
     "output_type": "stream",
     "text": [
      "good feedback received for: [Article 1](https://example.com/article_1)\n"
     ]
    }
   ],
   "source": [
    "\n",
    "css = \"\"\"\n",
    "#custom-query-box, #custom-output-box {\n",
    "    max-width: 600px;\n",
    "    width: 85%;\n",
    "    margin-left: auto;\n",
    "    margin-right: auto;\n",
    "}\n",
    "\"\"\"\n",
    "\n",
    "with gr.Blocks(css=css) as iface:\n",
    "    with gr.Column(elem_id=\"custom-query-box\"):\n",
    "        gr.Markdown(\"## 📚 Wikipedia Semantic Search\")\n",
    "\n",
    "        query_input = gr.Textbox(\n",
    "            lines=2,\n",
    "            placeholder=\"Enter your semantic query...\",\n",
    "            label=\"Search Query\"\n",
    "        )\n",
    "\n",
    "        k_slider = gr.Slider(\n",
    "            minimum=1,\n",
    "            maximum=10,\n",
    "            step=1,\n",
    "            value=5,\n",
    "            label=\"Top K Results\"\n",
    "        )\n",
    "\n",
    "        search_button = gr.Button(\"🔎 Search\")\n",
    "\n",
    "        # Create rows and track all components\n",
    "        markdown_outputs = []\n",
    "        row_containers = []\n",
    "        feedback_buttons = []\n",
    "\n",
    "        for _ in range(10):\n",
    "            with gr.Row(visible=False) as row:\n",
    "                with gr.Column(scale=8):\n",
    "                    url_md = gr.Markdown()\n",
    "                with gr.Column(scale=1, min_width=100):\n",
    "                    good_button = gr.Button(\"👍 Good\")\n",
    "                with gr.Column(scale=1, min_width=100):\n",
    "                    bad_button = gr.Button(\"👎 Bad\")\n",
    "                \n",
    "                # Bind buttons to handler\n",
    "                good_button.click(fn=handle_feedback, inputs=[gr.Textbox(value=\"good\", visible=False), url_md])\n",
    "                bad_button.click(fn=handle_feedback, inputs=[gr.Textbox(value=\"bad\", visible=False), url_md])\n",
    "                \n",
    "                markdown_outputs.append(url_md)\n",
    "                row_containers.append(row)\n",
    "\n",
    "\n",
    "        def update_results(query, k):\n",
    "            urls = search_wiki(query, k)\n",
    "            url_updates = [gr.update(value=urls[i]) for i in range(10)]\n",
    "            row_visibilities = [gr.update(visible=(i < k)) for i in range(10)]\n",
    "            return url_updates + row_visibilities\n",
    "\n",
    "        # Combine outputs (first Markdown, then rows)\n",
    "        search_button.click(\n",
    "            fn=update_results,\n",
    "            inputs=[query_input, k_slider],\n",
    "            outputs=markdown_outputs + row_containers \n",
    "        )\n",
    "\n",
    "if __name__ == \"__main__\":\n",
    "    iface.launch()"
   ]
  }
 ],
 "metadata": {
  "kernelspec": {
   "display_name": "venv",
   "language": "python",
   "name": "python3"
  },
  "language_info": {
   "codemirror_mode": {
    "name": "ipython",
    "version": 3
   },
   "file_extension": ".py",
   "mimetype": "text/x-python",
   "name": "python",
   "nbconvert_exporter": "python",
   "pygments_lexer": "ipython3",
   "version": "3.12.6"
  }
 },
 "nbformat": 4,
 "nbformat_minor": 5
}
